{
 "cells": [
  {
   "cell_type": "markdown",
   "id": "aa87da46-915e-4c3b-b1c7-33eff1c0f0aa",
   "metadata": {},
   "source": [
    "Neural Networks & Deep Learning: ICP5"
   ]
  },
  {
   "cell_type": "code",
   "execution_count": 1,
   "id": "881bc12c-6c66-4dfd-920b-7ec6bbd24fea",
   "metadata": {},
   "outputs": [
    {
     "name": "stdout",
     "output_type": "stream",
     "text": [
      "Accuracy: 0.5581395348837209\n",
      "              precision    recall  f1-score   support\n",
      "\n",
      "           1       0.41      0.64      0.50        11\n",
      "           2       0.43      0.21      0.29        14\n",
      "           3       0.40      0.67      0.50         3\n",
      "           5       0.50      0.25      0.33         4\n",
      "           6       1.00      1.00      1.00         3\n",
      "           7       0.89      1.00      0.94         8\n",
      "\n",
      "    accuracy                           0.56        43\n",
      "   macro avg       0.60      0.63      0.59        43\n",
      "weighted avg       0.55      0.56      0.53        43\n",
      "\n"
     ]
    }
   ],
   "source": [
    "import pandas as pd\n",
    "from sklearn.model_selection import train_test_split\n",
    "from sklearn.naive_bayes import GaussianNB\n",
    "from sklearn.metrics import classification_report\n",
    "\n",
    "data = pd.read_csv('glass.csv')\n",
    "\n",
    "X = data.drop('Type', axis=1)  \n",
    "y = data['Type']  \n",
    "\n",
    "X_train, X_test, y_train, y_test = train_test_split(X, y, test_size=0.2, random_state=42)\n",
    "\n",
    "nb_classifier = GaussianNB()\n",
    "\n",
    "nb_classifier.fit(X_train, y_train)\n",
    "\n",
    "y_pred = nb_classifier.predict(X_test)\n",
    "\n",
    "accuracy = nb_classifier.score(X_test, y_test)\n",
    "print(\"Accuracy:\", accuracy)\n",
    "\n",
    "print(classification_report(y_test, y_pred))\n"
   ]
  },
  {
   "cell_type": "code",
   "execution_count": 3,
   "id": "285c0b61-904c-4c58-a0ed-abe111d507ce",
   "metadata": {},
   "outputs": [
    {
     "name": "stdout",
     "output_type": "stream",
     "text": [
      "Accuracy: 0.7441860465116279\n",
      "              precision    recall  f1-score   support\n",
      "\n",
      "           1       0.69      0.82      0.75        11\n",
      "           2       0.67      0.71      0.69        14\n",
      "           3       0.00      0.00      0.00         3\n",
      "           5       0.80      1.00      0.89         4\n",
      "           6       1.00      0.67      0.80         3\n",
      "           7       0.88      0.88      0.88         8\n",
      "\n",
      "    accuracy                           0.74        43\n",
      "   macro avg       0.67      0.68      0.67        43\n",
      "weighted avg       0.70      0.74      0.72        43\n",
      "\n"
     ]
    }
   ],
   "source": [
    "import pandas as pd\n",
    "from sklearn.model_selection import train_test_split\n",
    "from sklearn.svm import SVC\n",
    "from sklearn.metrics import classification_report\n",
    "\n",
    "data = pd.read_csv('glass.csv')\n",
    "\n",
    "X = data.drop('Type', axis=1)  \n",
    "y = data['Type']  \n",
    "\n",
    "X_train, X_test, y_train, y_test = train_test_split(X, y, test_size=0.2, random_state=42)\n",
    "\n",
    "svm_classifier = SVC(kernel='linear')\n",
    "\n",
    "svm_classifier.fit(X_train, y_train)\n",
    "\n",
    "y_pred = svm_classifier.predict(X_test)\n",
    "\n",
    "accuracy = svm_classifier.score(X_test, y_test)\n",
    "print(\"Accuracy:\", accuracy)\n",
    "\n",
    "print(classification_report(y_test, y_pred, zero_division=0))  \n"
   ]
  },
  {
   "cell_type": "code",
   "execution_count": 4,
   "id": "37acccbc-19b0-4266-8388-4bb54f914212",
   "metadata": {},
   "outputs": [
    {
     "name": "stdout",
     "output_type": "stream",
     "text": [
      "Naïve Bayes Accuracy: 0.5581395348837209\n"
     ]
    }
   ],
   "source": [
    "accuracy_nb = nb_classifier.score(X_test, y_test)\n",
    "print(\"Naïve Bayes Accuracy:\", accuracy_nb)\n"
   ]
  },
  {
   "cell_type": "code",
   "execution_count": 5,
   "id": "56600219-d63a-4fbe-b924-cc9c04957dcb",
   "metadata": {},
   "outputs": [
    {
     "name": "stdout",
     "output_type": "stream",
     "text": [
      "Linear SVM Accuracy: 0.7441860465116279\n"
     ]
    }
   ],
   "source": [
    "accuracy_svm = svm_classifier.score(X_test, y_test)\n",
    "print(\"Linear SVM Accuracy:\", accuracy_svm)\n"
   ]
  },
  {
   "cell_type": "code",
   "execution_count": null,
   "id": "0aea2816-ba16-4140-8fde-153f15000835",
   "metadata": {},
   "outputs": [],
   "source": [
    "The Linear SVM classifier achieved a higher accuracy of approximately 74.42%, while the Naïve Bayes classifier achieved a lower accuracy of approximately 55.81%.\n",
    "\n",
    "Therefore, in this case, the Linear SVM classifier performed better in terms of accuracy compared to the Naïve Bayes classifier."
   ]
  }
 ],
 "metadata": {
  "kernelspec": {
   "display_name": "Python 3 (ipykernel)",
   "language": "python",
   "name": "python3"
  },
  "language_info": {
   "codemirror_mode": {
    "name": "ipython",
    "version": 3
   },
   "file_extension": ".py",
   "mimetype": "text/x-python",
   "name": "python",
   "nbconvert_exporter": "python",
   "pygments_lexer": "ipython3",
   "version": "3.12.1"
  }
 },
 "nbformat": 4,
 "nbformat_minor": 5
}
